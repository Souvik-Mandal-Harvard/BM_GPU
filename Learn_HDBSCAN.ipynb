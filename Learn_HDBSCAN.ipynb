{
 "cells": [
  {
   "cell_type": "code",
   "execution_count": 1,
   "metadata": {},
   "outputs": [],
   "source": [
    "import numpy as np\n",
    "import matplotlib.pyplot as plt\n",
    "import seaborn as sns\n",
    "import sklearn.datasets as data\n",
    "%matplotlib inline\n",
    "sns.set_context('poster')\n",
    "sns.set_style('white')\n",
    "sns.set_color_codes()\n",
    "plot_kwds = {'alpha' : 0.5, 's' : 80, 'linewidths':0}"
   ]
  },
  {
   "cell_type": "code",
   "execution_count": 11,
   "metadata": {},
   "outputs": [
    {
     "data": {
      "text/plain": [
       "<matplotlib.collections.PathCollection at 0x7fe83951edf0>"
      ]
     },
     "execution_count": 11,
     "metadata": {},
     "output_type": "execute_result"
    },
    {
     "data": {
      "image/png": "[encoded data removed]",
      "text/plain": [
       "<Figure size 432x288 with 1 Axes>"
      ]
     },
     "metadata": {},
     "output_type": "display_data"
    }
   ],
   "source": [
    "moons, _ = data.make_moons(n_samples=50, noise=0.05)\n",
    "blobs, _ = data.make_blobs(n_samples=50, centers=[(-0.75,2.25), (1.0, 2.0)], cluster_std=0.25)\n",
    "test_data = np.vstack([moons, blobs])\n",
    "plt.scatter(test_data.T[0], test_data.T[1], color='b', **plot_kwds)"
   ]
  },
  {
   "cell_type": "code",
   "execution_count": 14,
   "metadata": {},
   "outputs": [],
   "source": [
    "from sklearn.datasets import make_blobs\n",
    "import pandas as pd"
   ]
  },
  {
   "cell_type": "code",
   "execution_count": 15,
   "metadata": {},
   "outputs": [],
   "source": [
    "blobs, labels = make_blobs(n_samples=2000, n_features=10)"
   ]
  },
  {
   "cell_type": "code",
   "execution_count": 16,
   "metadata": {},
   "outputs": [
    {
     "data": {
      "text/html": [
       "<div>\n",
       "<style scoped>\n",
       "    .dataframe tbody tr th:only-of-type {\n",
       "        vertical-align: middle;\n",
       "    }\n",
       "\n",
       "    .dataframe tbody tr th {\n",
       "        vertical-align: top;\n",
       "    }\n",
       "\n",
       "    .dataframe thead th {\n",
       "        text-align: right;\n",
       "    }\n",
       "</style>\n",
       "<table border=\"1\" class=\"dataframe\">\n",
       "  <thead>\n",
       "    <tr style=\"text-align: right;\">\n",
       "      <th></th>\n",
       "      <th>0</th>\n",
       "      <th>1</th>\n",
       "      <th>2</th>\n",
       "      <th>3</th>\n",
       "      <th>4</th>\n",
       "      <th>5</th>\n",
       "      <th>6</th>\n",
       "      <th>7</th>\n",
       "      <th>8</th>\n",
       "      <th>9</th>\n",
       "    </tr>\n",
       "  </thead>\n",
       "  <tbody>\n",
       "    <tr>\n",
       "      <th>0</th>\n",
       "      <td>-7.709666</td>\n",
       "      <td>-3.373227</td>\n",
       "      <td>8.796491</td>\n",
       "      <td>-4.663844</td>\n",
       "      <td>-7.920742</td>\n",
       "      <td>2.972684</td>\n",
       "      <td>3.492893</td>\n",
       "      <td>3.178854</td>\n",
       "      <td>7.733777</td>\n",
       "      <td>7.575943</td>\n",
       "    </tr>\n",
       "    <tr>\n",
       "      <th>1</th>\n",
       "      <td>-3.696009</td>\n",
       "      <td>-5.696691</td>\n",
       "      <td>-2.293680</td>\n",
       "      <td>-8.579676</td>\n",
       "      <td>-1.104869</td>\n",
       "      <td>8.647675</td>\n",
       "      <td>-3.777845</td>\n",
       "      <td>-8.755754</td>\n",
       "      <td>-11.434768</td>\n",
       "      <td>-5.327648</td>\n",
       "    </tr>\n",
       "    <tr>\n",
       "      <th>2</th>\n",
       "      <td>-3.129210</td>\n",
       "      <td>-2.921454</td>\n",
       "      <td>7.399411</td>\n",
       "      <td>10.097026</td>\n",
       "      <td>4.089682</td>\n",
       "      <td>-4.845316</td>\n",
       "      <td>-10.013180</td>\n",
       "      <td>-0.148366</td>\n",
       "      <td>4.833326</td>\n",
       "      <td>7.853067</td>\n",
       "    </tr>\n",
       "    <tr>\n",
       "      <th>3</th>\n",
       "      <td>-3.834741</td>\n",
       "      <td>-1.798305</td>\n",
       "      <td>5.769428</td>\n",
       "      <td>11.223521</td>\n",
       "      <td>2.377148</td>\n",
       "      <td>-4.050152</td>\n",
       "      <td>-9.324468</td>\n",
       "      <td>0.368509</td>\n",
       "      <td>3.705699</td>\n",
       "      <td>8.555120</td>\n",
       "    </tr>\n",
       "    <tr>\n",
       "      <th>4</th>\n",
       "      <td>-7.227283</td>\n",
       "      <td>-1.000026</td>\n",
       "      <td>7.038929</td>\n",
       "      <td>-4.206868</td>\n",
       "      <td>-6.674594</td>\n",
       "      <td>3.592661</td>\n",
       "      <td>2.892310</td>\n",
       "      <td>2.730252</td>\n",
       "      <td>8.921668</td>\n",
       "      <td>9.444678</td>\n",
       "    </tr>\n",
       "  </tbody>\n",
       "</table>\n",
       "</div>"
      ],
      "text/plain": [
       "          0         1         2          3         4         5          6  \\\n",
       "0 -7.709666 -3.373227  8.796491  -4.663844 -7.920742  2.972684   3.492893   \n",
       "1 -3.696009 -5.696691 -2.293680  -8.579676 -1.104869  8.647675  -3.777845   \n",
       "2 -3.129210 -2.921454  7.399411  10.097026  4.089682 -4.845316 -10.013180   \n",
       "3 -3.834741 -1.798305  5.769428  11.223521  2.377148 -4.050152  -9.324468   \n",
       "4 -7.227283 -1.000026  7.038929  -4.206868 -6.674594  3.592661   2.892310   \n",
       "\n",
       "          7          8         9  \n",
       "0  3.178854   7.733777  7.575943  \n",
       "1 -8.755754 -11.434768 -5.327648  \n",
       "2 -0.148366   4.833326  7.853067  \n",
       "3  0.368509   3.705699  8.555120  \n",
       "4  2.730252   8.921668  9.444678  "
      ]
     },
     "execution_count": 16,
     "metadata": {},
     "output_type": "execute_result"
    }
   ],
   "source": [
    "pd.DataFrame(blobs).head()"
   ]
  },
  {
   "cell_type": "code",
   "execution_count": 1,
   "metadata": {},
   "outputs": [],
   "source": [
    "import hdbscan\n",
    "#if you don't have hdbscan package installed on yor computer/environment, \n",
    "#intall it using terminal and RESTART THE KERNEL."
   ]
  },
  {
   "cell_type": "code",
   "execution_count": null,
   "metadata": {},
   "outputs": [],
   "source": []
  }
 ],
 "metadata": {
  "kernelspec": {
   "display_name": "Python 3",
   "language": "python",
   "name": "python3"
  },
  "language_info": {
   "codemirror_mode": {
    "name": "ipython",
    "version": 3
   },
   "file_extension": ".py",
   "mimetype": "text/x-python",
   "name": "python",
   "nbconvert_exporter": "python",
   "pygments_lexer": "ipython3",
   "version": "3.8.3"
  }
 },
 "nbformat": 4,
 "nbformat_minor": 4
}
