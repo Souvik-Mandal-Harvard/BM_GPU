{
 "cells": [
  {
   "cell_type": "code",
   "execution_count": 1,
   "metadata": {},
   "outputs": [],
   "source": [
    "import os\n",
    "import pandas as pd\n",
    "import numpy as np"
   ]
  },
  {
   "cell_type": "code",
   "execution_count": 2,
   "metadata": {},
   "outputs": [],
   "source": [
    "CLUSTER_PATH = \"/Users/lukefoster/Documents/CompEtho/BM_GPU/results/cluster\""
   ]
  },
  {
   "cell_type": "code",
   "execution_count": 3,
   "metadata": {},
   "outputs": [],
   "source": [
    "# save all cluster files to all_clusters list\n",
    "all_clusters = [CLUSTER_PATH + \"/\" + f for f in os.listdir(CLUSTER_PATH)]"
   ]
  },
  {
   "cell_type": "code",
   "execution_count": 4,
   "metadata": {},
   "outputs": [],
   "source": [
    "# find the largest cluster number within cluster data\n",
    "def find_max(data):\n",
    "    max_values = []\n",
    "\n",
    "    for key, value in data.items():\n",
    "        max_values.append(max(value))\n",
    "\n",
    "    return int(max(max_values))"
   ]
  },
  {
   "cell_type": "code",
   "execution_count": 5,
   "metadata": {},
   "outputs": [],
   "source": [
    "# create a csv of normalized cluster data\n",
    "def create_csv(cluster_data, title):\n",
    "    # create a list of all cluster values within cluster data\n",
    "    cluster_values = np.arange(0, find_max(cluster_data)+1)\n",
    "\n",
    "    # create an empty array that will be filled with cluster data\n",
    "    arr = np.empty((len(cluster_data), len(cluster_values)+1), dtype=\"object\")\n",
    "\n",
    "    for i, dict in enumerate(cluster_data.items()):\n",
    "        # key = dict[0]\n",
    "        # value = dict[1]\n",
    "        row = np.empty(len(cluster_values)+1, dtype=\"object\")\n",
    "\n",
    "        # set first row element to be file name\n",
    "        row[0] = dict[0]\n",
    "\n",
    "        values = []\n",
    "    \n",
    "        for value in dict[1]:\n",
    "            if value >= 0:\n",
    "                values.append(int(value))\n",
    "\n",
    "        # number of good frames for video = len(values)\n",
    "\n",
    "        try:\n",
    "            for j in range(1,len(cluster_values)+1):\n",
    "                row[j] = values.count(j-1) / len(values)\n",
    "        except (ZeroDivisionError):\n",
    "            print(f\"{dict[0]} has 0 good clusters\")\n",
    "\n",
    "        arr[i] = row\n",
    "\n",
    "    # convert array into dataframe\n",
    "    DF = pd.DataFrame(arr)\n",
    "    \n",
    "    # add mean of each cluster proportion to dataframe\n",
    "    means = np.empty((1,len(cluster_values)+1), dtype=\"object\")\n",
    "    means[0][0] = \"mean\"\n",
    "    for i in range(1, len(cluster_values)+1):\n",
    "        means[0][i] = DF[i].mean()  \n",
    "    means = pd.DataFrame(means)   \n",
    "    \n",
    "    # add standard deviation of each cluster proportion to dataframe\n",
    "    stds = np.empty((1,len(cluster_values)+1), dtype=\"object\")\n",
    "    stds[0][0] = \"standard deviation\"\n",
    "    for i in range(1, len(cluster_values)+1):\n",
    "        stds[0][i] = DF[i].std()  \n",
    "    stds = pd.DataFrame(stds)\n",
    "    \n",
    "    DF = DF.append(means, ignore_index=True)\n",
    "    DF = DF.append(stds, ignore_index=True)\n",
    "\n",
    "    # rename first column to \"Video File\"\n",
    "    DF = DF.rename(columns={0: \"Video File\"})\n",
    "\n",
    "    # loop through each other column, renaming them to \"Cluster {n}\"\n",
    "    for i in range(1,len(cluster_values)+1):\n",
    "        DF = DF.rename(columns={i: f\"Cluster {i-1}\"})\n",
    "\n",
    "    # save the dataframe as a csv\n",
    "    DF.to_csv(f\"{CLUSTER_PATH}/{title}.csv\")"
   ]
  },
  {
   "cell_type": "code",
   "execution_count": 6,
   "metadata": {},
   "outputs": [
    {
     "name": "stdout",
     "output_type": "stream",
     "text": [
      "Non-.npy file in directory\n",
      "07YTminfd_antmovie200928211544 has 0 good clusters\n",
      "newant_antmovie200924212211 has 0 good clusters\n",
      "12RWminfd_antmovie200927224447 has 0 good clusters\n",
      "10BYmidfd_antmovie200928222401 has 0 good clusters\n",
      "11RBminfd_antmovie200927222415 has 0 good clusters\n",
      "00AAmidfr_antmovie200926192629 has 0 good clusters\n",
      "01SSmidfr_antmovie201010190036 has 0 good clusters\n",
      "02BBmidfd_antmovie200926202619 has 0 good clusters\n"
     ]
    }
   ],
   "source": [
    "all_cluster_data = {}\n",
    "\n",
    "for file in all_clusters:\n",
    "    try:\n",
    "        all_cluster_data[f\"{file.split('cluster_')[-1].split('.npy')[0]}\"] = np.load(file)\n",
    "    except (ValueError):\n",
    "        print(\"Non-.npy file in directory\")\n",
    "\n",
    "create_csv(all_cluster_data, title=\"all_clusters\")"
   ]
  },
  {
   "cell_type": "code",
   "execution_count": 7,
   "metadata": {},
   "outputs": [
    {
     "name": "stdout",
     "output_type": "stream",
     "text": [
      "07YTminfd_antmovie200928211544 has 0 good clusters\n",
      "12RWminfd_antmovie200927224447 has 0 good clusters\n",
      "11RBminfd_antmovie200927222415 has 0 good clusters\n"
     ]
    }
   ],
   "source": [
    "min_cluster_data = {}\n",
    "\n",
    "for file in all_clusters:\n",
    "    if \"min\" in file.split(\"/\")[-1]:\n",
    "        try:\n",
    "            min_cluster_data[f\"{file.split('cluster_')[-1].split('.npy')[0]}\"] = np.load(file)\n",
    "        except (ValueError):\n",
    "            print(\"Non-.npy file in directory\")\n",
    "\n",
    "create_csv(min_cluster_data, title=\"min_clusters\")"
   ]
  },
  {
   "cell_type": "code",
   "execution_count": 8,
   "metadata": {},
   "outputs": [
    {
     "name": "stdout",
     "output_type": "stream",
     "text": [
      "10BYmidfd_antmovie200928222401 has 0 good clusters\n",
      "00AAmidfr_antmovie200926192629 has 0 good clusters\n",
      "01SSmidfr_antmovie201010190036 has 0 good clusters\n",
      "02BBmidfd_antmovie200926202619 has 0 good clusters\n"
     ]
    }
   ],
   "source": [
    "mid_cluster_data = {}\n",
    "\n",
    "for file in all_clusters:\n",
    "    if \"mid\" in file.split(\"/\")[-1]:\n",
    "        try:\n",
    "            mid_cluster_data[f\"{file.split('cluster_')[-1].split('.npy')[0]}\"] = np.load(file)\n",
    "        except (ValueError):\n",
    "            print(\"Non-.npy file in directory\")\n",
    "            \n",
    "create_csv(mid_cluster_data, title=\"mid_clusters\")"
   ]
  },
  {
   "cell_type": "code",
   "execution_count": 9,
   "metadata": {},
   "outputs": [],
   "source": [
    "maj_cluster_data = {}\n",
    "\n",
    "for file in all_clusters:\n",
    "    if \"maj\" in file.split(\"/\")[-1]:\n",
    "        try:\n",
    "            maj_cluster_data[f\"{file.split('cluster_')[-1].split('.npy')[0]}\"] = np.load(file)\n",
    "        except (ValueError):\n",
    "            print(\"Non-.npy file in directory\")\n",
    "            \n",
    "create_csv(maj_cluster_data, title=\"maj_clusters\")"
   ]
  },
  {
   "cell_type": "code",
   "execution_count": 10,
   "metadata": {},
   "outputs": [
    {
     "name": "stdout",
     "output_type": "stream",
     "text": [
      "Non-.npy file in directory\n",
      "newant_antmovie200924212211 has 0 good clusters\n"
     ]
    }
   ],
   "source": [
    "other_cluster_data = {}\n",
    "\n",
    "for file in all_clusters:\n",
    "    if \"min\" not in file.split(\"/\")[-1] and \"mid\" not in file.split(\"/\")[-1] and \"maj\" not in file.split(\"/\")[-1]:\n",
    "        try:\n",
    "            other_cluster_data[f\"{file.split('cluster_')[-1].split('.npy')[0]}\"] = np.load(file)\n",
    "        except (ValueError):\n",
    "            print(\"Non-.npy file in directory\")\n",
    "            \n",
    "create_csv(other_cluster_data, title=\"other_clusters\")"
   ]
  },
  {
   "cell_type": "code",
   "execution_count": null,
   "metadata": {},
   "outputs": [],
   "source": []
  }
 ],
 "metadata": {
  "kernelspec": {
   "display_name": "Python 3",
   "language": "python",
   "name": "python3"
  },
  "language_info": {
   "codemirror_mode": {
    "name": "ipython",
    "version": 3
   },
   "file_extension": ".py",
   "mimetype": "text/x-python",
   "name": "python",
   "nbconvert_exporter": "python",
   "pygments_lexer": "ipython3",
   "version": "3.8.5"
  },
  "toc": {
   "base_numbering": 1,
   "nav_menu": {},
   "number_sections": true,
   "sideBar": true,
   "skip_h1_title": false,
   "title_cell": "Table of Contents",
   "title_sidebar": "Contents",
   "toc_cell": false,
   "toc_position": {},
   "toc_section_display": true,
   "toc_window_display": false
  }
 },
 "nbformat": 4,
 "nbformat_minor": 4
}
