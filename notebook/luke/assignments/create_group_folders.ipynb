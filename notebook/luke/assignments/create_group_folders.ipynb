{
 "cells": [
  {
   "cell_type": "code",
   "execution_count": 75,
   "metadata": {},
   "outputs": [],
   "source": [
    "import os\n",
    "from shutil import copyfile"
   ]
  },
  {
   "cell_type": "code",
   "execution_count": 76,
   "metadata": {},
   "outputs": [],
   "source": [
    "PROJECT_PATH = \"/Users/lukefoster/Documents/CompEtho/BM_GPU\"\n",
    "FILE_PATH = f\"{PROJECT_PATH}/results/final\""
   ]
  },
  {
   "cell_type": "code",
   "execution_count": 77,
   "metadata": {},
   "outputs": [],
   "source": [
    "# create a list of all files within FILE_PATH (results/final folder)\n",
    "all_files = [FILE_PATH + \"/\" + f for f in os.listdir(FILE_PATH)]\n",
    "# create an empty list to be filled with only folders (no other files)\n",
    "all_folders = []\n",
    "\n",
    "# loop through each file, and if it is a directory, add it to the all_folders list\n",
    "for file in all_files:\n",
    "    if os.path.isdir(file):\n",
    "        all_folders.append(file)"
   ]
  },
  {
   "cell_type": "code",
   "execution_count": 78,
   "metadata": {},
   "outputs": [
    {
     "name": "stdout",
     "output_type": "stream",
     "text": [
      "Unable to create all_embeddings directory. Directory already exists.\n",
      "Unable to create all_kinematic_embeddings directory. Directory already exists.\n",
      "Unable to create all_postural_embeddings directory. Directory already exists.\n",
      "Unable to create angle_power directory. Directory already exists.\n",
      "Unable to create angles directory. Directory already exists.\n",
      "Unable to create bodypoints directory. Directory already exists.\n",
      "Unable to create cluster directory. Directory already exists.\n",
      "Unable to create limb_power directory. Directory already exists.\n",
      "Unable to create limbs directory. Directory already exists.\n",
      "Unable to create rotated_bodypoints directory. Directory already exists.\n",
      "Unable to create scaled_bodypoints directory. Directory already exists.\n"
     ]
    }
   ],
   "source": [
    "groupings = [\"all_embeddings\", \"all_kinematic_embeddings\", \"all_postural_embeddings\", \"angle_power\", \n",
    "             \"angles\", \"bodypoints\", \"cluster\", \"limb_power\", \"limbs\", \"rotated_bodypoints\", \n",
    "             \"scaled_bodypoints\"]\n",
    "\n",
    "# create a directory for each group that will be filled in later\n",
    "for group in groupings:\n",
    "    try:  \n",
    "        os.mkdir(f\"{PROJECT_PATH}/results/{group}\")\n",
    "    except (FileExistsError):\n",
    "        print(f\"Unable to create {group} directory. Directory already exists.\")"
   ]
  },
  {
   "cell_type": "code",
   "execution_count": 79,
   "metadata": {},
   "outputs": [],
   "source": [
    "# loop through each folder\n",
    "for folder in all_folders:\n",
    "    # save contents of folder to variable contents\n",
    "    contents = os.listdir(folder)\n",
    "    # loop through each file within the contents and save only the first part of the filename to group variable\n",
    "    for file in contents:\n",
    "        group = file.split(\".\")[0]\n",
    "        \n",
    "        # copy each file to its designated group directory created earlier\n",
    "        copyfile(f\"{folder}/{file}\", f\"{PROJECT_PATH}/results/{group}/{group}_{folder.split('/')[-1]}.npy\")"
   ]
  },
  {
   "cell_type": "code",
   "execution_count": null,
   "metadata": {},
   "outputs": [],
   "source": []
  }
 ],
 "metadata": {
  "kernelspec": {
   "display_name": "Python 3",
   "language": "python",
   "name": "python3"
  },
  "language_info": {
   "codemirror_mode": {
    "name": "ipython",
    "version": 3
   },
   "file_extension": ".py",
   "mimetype": "text/x-python",
   "name": "python",
   "nbconvert_exporter": "python",
   "pygments_lexer": "ipython3",
   "version": "3.8.5"
  },
  "toc": {
   "base_numbering": 1,
   "nav_menu": {},
   "number_sections": true,
   "sideBar": true,
   "skip_h1_title": false,
   "title_cell": "Table of Contents",
   "title_sidebar": "Contents",
   "toc_cell": false,
   "toc_position": {},
   "toc_section_display": true,
   "toc_window_display": false
  }
 },
 "nbformat": 4,
 "nbformat_minor": 4
}
