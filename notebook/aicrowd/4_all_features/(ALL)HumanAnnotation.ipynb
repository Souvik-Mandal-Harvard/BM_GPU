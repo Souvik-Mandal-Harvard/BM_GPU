{
 "cells": [
  {
   "cell_type": "code",
   "execution_count": 1,
   "metadata": {},
   "outputs": [],
   "source": [
    "import os, random, matplotlib, pickle, yaml, hdbscan\n",
    "import numpy as np\n",
    "from sklearn.utils import shuffle\n",
    "import seaborn as sns\n",
    "from tqdm.notebook import tqdm\n",
    "import matplotlib.pyplot as plt\n",
    "import matplotlib.colors as colors\n",
    "import matplotlib as mpl\n",
    "from matplotlib.ticker import FormatStrFormatter\n",
    "from matplotlib.colors import ListedColormap\n",
    "from glob2 import glob"
   ]
  },
  {
   "cell_type": "code",
   "execution_count": 2,
   "metadata": {},
   "outputs": [],
   "source": [
    "skeleton = [\n",
    "    [0,1,2,3],\n",
    "    [4,5,6,7],\n",
    "    [8,9,10],\n",
    "    [11,12,13],\n",
    "    [14,15,16],\n",
    "    [17,18,19,20],\n",
    "    [21,22,23],\n",
    "    [24,25,26],\n",
    "    [27,28,29]\n",
    "]\n",
    "skeleton_color=['tab:blue','tab:orange','tab:green','tab:red','tab:purple','tab:brown','tab:pink','tab:gray','tab:olive', 'tab:cyan']"
   ]
  },
  {
   "cell_type": "code",
   "execution_count": 3,
   "metadata": {},
   "outputs": [],
   "source": [
    "result_path = \"../results/round3\"\n",
    "with open(f\"{result_path}/INFO.yaml\") as f:\n",
    "    INFO = yaml.load(f, Loader=yaml.FullLoader)\n",
    "    INFO_values = list(INFO.values())\n",
    "    INFO_values.sort(key=lambda x: x['order'])"
   ]
  },
  {
   "cell_type": "code",
   "execution_count": 4,
   "metadata": {},
   "outputs": [],
   "source": [
    "config_path = \"..\"\n",
    "with open(f\"{config_path}/config.yaml\") as f:\n",
    "    config = yaml.load(f, Loader=yaml.FullLoader)"
   ]
  },
  {
   "cell_type": "markdown",
   "metadata": {},
   "source": [
    "<hr>\n",
    "<hr>\n"
   ]
  },
  {
   "cell_type": "code",
   "execution_count": 40,
   "metadata": {},
   "outputs": [],
   "source": [
    "file = np.array(list(INFO.keys()))\n",
    "good_fr = np.array([len(val['good_fr']) for val in INFO.values()])\n",
    "# print(good_fr)"
   ]
  },
  {
   "cell_type": "code",
   "execution_count": 45,
   "metadata": {
    "scrolled": true
   },
   "outputs": [
    {
     "name": "stdout",
     "output_type": "stream",
     "text": [
      "02RRmajfd_antmovie200924194252:  22623\n",
      "10RYfd_left_antn_no_move_antmovie200927215532:  22038\n",
      "01BWmidfd_antmovie200929190558:  22007\n",
      "15RTmidfd_antmovie200927234753:  21836\n",
      "07WYminfd_antmovie200929213625:  20959\n",
      "08YOmidfd_antmovie200928213524:  20844\n",
      "01Pdminfd_antmovie200927193143:  20488\n",
      "09dWminfd_antmovie200926224729:  19718\n",
      "01Rdmidfd_antmovie200924192056:  18274\n",
      "13RGmajfd_antmovie200927225925:  18039\n",
      "05DDminfr_antmovie200926210700:  17809\n",
      "05YGminfd_antmovie200928203953:  17620\n",
      "06dDminfr_antmovie200926212457:  17331\n",
      "07Wdmidfd_antmovie200926215810:  16334\n",
      "02YRminfd_antmovie200928193903:  15944\n",
      "09OOminfd_antmovie200927213350:  15750\n",
      "08WBmajr_antmovie200929215724:  15198\n",
      "06dDminfd_antmovie200926213750:  13522\n",
      "04WTmidfd_antmovie201010203755:  13501\n",
      "02RRmajfr_antmovie200924193332:  13467\n",
      "01Bdmidfd_antmovie200926200120:  13051\n",
      "02XXmidfr_antmovie200929192644:  12557\n",
      "03dRmajfr_antmovie200924195844:  12455\n",
      "06GRmidfd_antmovie201010211657:  12254\n",
      "15RTmidfr_antmovie200927233405:  12063\n",
      "09dWminfr_antmovie200926223927:  11854\n",
      "01ROmidfr_antmovie200928191510:  11814\n",
      "05YGminfr_antmovie200928203217:  11683\n",
      "04Ydmidfr_antmovie200924203448:  11602\n",
      "08dOminfr_antmovie200927210505:  11547\n",
      "04Tdminfr_antmovie200927202259:  11373\n",
      "08YOmidfr_antmovie200928212740:  11271\n",
      "07Wdmidfr_antmovie200926214911:  11100\n",
      "05BOmajfr_antmovie200929204645:  10773\n",
      "14RPminfr_antmovie200927231459:  10712\n",
      "02BBmidfr_antmovie200926201803:  10680\n",
      "04WTmidfr_antmovie201010202950:  10453\n",
      "03dBmidfr_antmovie200926203136:  10416\n",
      "10RYfr_left_antn_no_move_antmovie200927214552:  10393\n",
      "11RBminfr_antmovie200927221547:  10384\n",
      "07Odmajfr_antmovie200927205308:  10144\n",
      "13RGmajfr_antmovie200927225156:  10129\n",
      "07WYminfr_antmovie200929212922:  9954\n",
      "08WWmidfd_antmovie200926222746:  9932\n",
      "04Tdminfd_antmovie200927203026:  9725\n",
      "01Bdmidfr_antmovie200926195414:  9689\n",
      "05BOmajfd_antmovie200929205417:  9670\n",
      "09BRmajfr_antmovie200928215349:  9582\n",
      "10GPminfr_antmovie201010223744:  9434\n",
      "06GRmidfr_antmovie201010210607:  9378\n",
      "06YPmajfr_antmovie200928205622:  9367\n",
      "01Pdminfr_antmovie200927192312:  9364\n",
      "01BWmidfr_antmovie200929185530:  9309\n",
      "02WGmidfr_antmovie201010193952:  9298\n",
      "06TTminfr_antmovie200927204039:  9229\n",
      "10BYmidfd_antmovie200928223309:  9227\n",
      "10BYmidfd_antmovie200928222534:  9027\n",
      "07YTminfr_antmovie200928210913:  8825\n",
      "04YWmajfr_antmovie200928201629:  8668\n",
      "01SSmidfr_antmovie201010190036:  8547\n",
      "03WPmajfr_antmovie201010200214:  8401\n",
      "02dPmajfr_antmovie200927195452:  8314\n",
      "03dRmajfd_antmovie200924201624:  8304\n",
      "09OOminfr_antmovie200927212511:  8228\n",
      "03WPmajfd_antmovie201010201128:  8017\n",
      "05YYmajfr_antmovie200924210947:  7895\n",
      "01Rdmidfr_antmovie200924190721:  7788\n",
      "06dYmajfd_antmovie200924214927:  7675\n",
      "06WRmajfr_antmovie200929210434:  7556\n",
      "03PPmajfr_antmovie200927200919:  7432\n",
      "04Ddminfr_antmovie200926204443:  7413\n",
      "07GYmajfr_antmovie201010213128:  7404\n",
      "08GBmajfr_antmovie201010215602:  7183\n",
      "04BTmajfr_antmovie200929203218:  7118\n",
      "05WOmajfr_antmovie201010204948:  7002\n",
      "12RWminfr_antmovie200927223201:  6963\n",
      "02WGmidfd_antmovie201010194713:  6780\n",
      "03YBmajfr_antmovie200928195842:  6726\n",
      "03BPmajfr_antmovie200929200853:  6640\n",
      "newant_antmovie200924212211:  6380\n",
      "11GTmajfr_antmovie201010225056:  6284\n",
      "09BRmajfd_antmovie200928221355:  6217\n",
      "08WWmidfd_antmovie200926223354:  5612\n",
      "09GWmajfr_antmovie201010222559:  5424\n",
      "03PPmajfd_antmovie200927201541:  5327\n",
      "02XXmidfr_antmovie200929192351:  5316\n",
      "06dYmajfr_antmovie200924213953:  4981\n",
      "14RPminfd_antmovie200927232318:  4896\n",
      "10BYmidfd_antmovie200928223820:  4615\n",
      "05WOmajfd_antmovie201010205850:  4590\n",
      "04BTmajfd_antmovie200929204003:  4471\n",
      "07YTminfd_antmovie200928211544:  4418\n",
      "02BGmajfr_antmovie200929195124:  3892\n",
      "00AAmidfr_antmovie200926195039:  3864\n",
      "09BRmajfd_antmovie200928220236:  3805\n",
      "02BGmajfd_antmovie200929195924:  3743\n",
      "01Rdmidfd_antmovie200924191610:  3732\n",
      "06WRmajfd_antmovie200929211318:  3703\n",
      "04Ddminfd_antmovie200926205755:  3658\n",
      "11GTmajfd_antmovie201010225841:  3444\n",
      "06dYmajfr_antmovie200924213217:  3345\n",
      "newant_antmovie200924212457:  3294\n",
      "04Ydmidfd_antmovie200924204640:  3246\n",
      "frightened_antmovie200927234327:  3181\n",
      "04Ydmidfd_antmovie200924205857:  3046\n",
      "04Ydmidfd_antmovie200924205710:  3042\n",
      "07YTminfr_antmovie200928210801:  2982\n",
      "04Ydmidfd_antmovie200924205307:  2881\n",
      "07GYmajfd_antmovie201010214325:  2720\n",
      "06dYmajfr_antmovie200924213405:  2682\n",
      "12RWminfd_antmovie200927224447:  2580\n",
      "fr_no_antennae_antmovie200927211714:  2531\n",
      "03BPmajfd_antmovie200929202854:  2338\n",
      "04YWmajfd_antmovie200928202317:  2315\n",
      "04WTmidfr_antmovie201010202045:  2263\n",
      "01ROmidfd_antmovie200928192245:  2076\n",
      "02BBmidfd_antmovie200926202619:  1979\n",
      "00AAmidfr_antmovie200926191227:  1805\n",
      "06YPmajfd_antmovie200928210425:  1775\n",
      "04Ydmidfd_antmovie200924204337:  1724\n",
      "03dBmidfd_antmovie200926204012:  1689\n",
      "10GPminfd_antmovie201010224528:  1515\n",
      "08GBmajfd_antmovie201010220356:  1417\n",
      "03dRmajfd_antmovie200924200955:  1349\n",
      "05DDminfd_antmovie200926211835:  1334\n",
      "09GWmajfd_antmovie201010223407:  1278\n",
      "06TTminfd_antmovie200927204828:  1257\n",
      "08dOminfd_antmovie200927211313:  1241\n",
      "02dPmajfd_antmovie200927200230:  1235\n",
      "07Odmajfd_antmovie200927210043:  1051\n",
      "05YYmajfd_antmovie200924211818:  1023\n",
      "08GBmajfr_antmovie201010215520:  881\n",
      "04YWmajfr_antmovie200928201556:  807\n",
      "03YBmajfd_antmovie200928200603:  803\n",
      "00AAmidfr_antmovie200926190125:  703\n",
      "11RBminfd_antmovie200927222415:  674\n",
      "03BPmajfd_antmovie200929202743:  300\n",
      "09BRmajfd_antmovie200928221729:  212\n",
      "00AAmidfr_antmovie200926192619:  143\n",
      "10BYmidfd_antmovie200928222401:  0\n",
      "00AAmidfr_antmovie200926192635:  0\n",
      "00AAmidfr_antmovie200926192629:  0\n"
     ]
    }
   ],
   "source": [
    "sorted_idx = np.flip(good_fr.argsort())\n",
    "for f,l in zip(file[sorted_idx], good_fr[sorted_idx]):\n",
    "    print(f\"{f}:  {l}\")\n"
   ]
  },
  {
   "cell_type": "code",
   "execution_count": 44,
   "metadata": {},
   "outputs": [
    {
     "data": {
      "text/plain": [
       "array([22])"
      ]
     },
     "execution_count": 44,
     "metadata": {},
     "output_type": "execute_result"
    }
   ],
   "source": []
  },
  {
   "cell_type": "code",
   "execution_count": null,
   "metadata": {},
   "outputs": [],
   "source": []
  }
 ],
 "metadata": {
  "kernelspec": {
   "display_name": "Python 3",
   "language": "python",
   "name": "python3"
  },
  "language_info": {
   "codemirror_mode": {
    "name": "ipython",
    "version": 3
   },
   "file_extension": ".py",
   "mimetype": "text/x-python",
   "name": "python",
   "nbconvert_exporter": "python",
   "pygments_lexer": "ipython3",
   "version": "3.7.3"
  }
 },
 "nbformat": 4,
 "nbformat_minor": 4
}
