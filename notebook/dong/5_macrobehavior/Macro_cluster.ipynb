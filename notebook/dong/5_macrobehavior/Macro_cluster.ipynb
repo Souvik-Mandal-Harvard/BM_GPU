{
 "cells": [
  {
   "cell_type": "code",
   "execution_count": 1,
   "metadata": {},
   "outputs": [],
   "source": [
    "import os, random, matplotlib, pickle, yaml\n",
    "import numpy as np\n",
    "import seaborn as sns\n",
    "from tqdm.notebook import tqdm\n",
    "import matplotlib.pyplot as plt\n",
    "import matplotlib.colors as colors\n",
    "import matplotlib as mpl\n",
    "from matplotlib.ticker import FormatStrFormatter\n",
    "from matplotlib.colors import ListedColormap\n",
    "from glob2 import glob\n",
    "\n",
    "SMALL_SIZE, MEDIUM_SIZE = 9, 12"
   ]
  },
  {
   "cell_type": "code",
   "execution_count": 2,
   "metadata": {},
   "outputs": [],
   "source": [
    "result_path = \"/Users/donghur/Desktop/Research/Murthy/BM_GPU/results/round2_legs_antennae_resnet101\"\n",
    "\n",
    "with open(f\"{result_path}/INFO.yaml\") as f:\n",
    "    INFO = yaml.load(f, Loader=yaml.FullLoader)\n",
    "    INFO_values = list(INFO.values())\n",
    "    INFO_values.sort(key=lambda x: x['order'])\n",
    "    \n",
    "config_path = \"/Users/donghur/Desktop/Research/Murthy/BM_GPU\"\n",
    "with open(f\"{config_path}/config.yaml\") as f:\n",
    "    config = yaml.load(f, Loader=yaml.FullLoader)"
   ]
  },
  {
   "cell_type": "code",
   "execution_count": 3,
   "metadata": {},
   "outputs": [
    {
     "name": "stdout",
     "output_type": "stream",
     "text": [
      "macro_angles: (16719, 8, 2)\n",
      "macro_power: (8, 21, 16719)\n",
      "macro_embed: (16719, 3)\n",
      "macro_loc: (16719, 2)\n"
     ]
    }
   ],
   "source": [
    "file_key = \"01BWmidfr_antmovie200929185530\"\n",
    "data_path = f\"{result_path}/{file_key}\"\n",
    "global_loc_path = f\"{data_path}/global_location.txt\"\n",
    "\n",
    "macro_bp = np.load(f\"{data_path}/bodypoints.npy\")\n",
    "macro_bp_scaled = np.load(f\"{data_path}/scaled_bodypoints.npy\")\n",
    "macro_bp_rotated = np.load(f\"{data_path}/rotated_bodypoints.npy\")\n",
    "macro_body_orientation = np.load(f\"{data_path}/body_orientation_angles.npy\")\n",
    "macro_angles = np.load(f\"{data_path}/angles.npy\")\n",
    "macro_power = np.load(f\"{data_path}/power.npy\")\n",
    "macro_embed = np.load(f\"{data_path}/embeddings.npy\")\n",
    "macro_cluster = np.load(f\"{data_path}/clusters.npy\")\n",
    "\n",
    "with open(global_loc_path, 'r') as f:\n",
    "    global_loc_str = f.read()\n",
    "    macro_loc = np.array([list(map(float,frame.split(\"\\t\"))) for frame in global_loc_str.split(\"\\n\")])\n",
    "    macro_loc /= config[\"camera_scale\"]\n",
    "\n",
    "print(f\"macro_angles: {macro_angles.shape}\")   \n",
    "print(f\"macro_power: {macro_power.shape}\")   \n",
    "print(f\"macro_embed: {macro_embed.shape}\")   \n",
    "print(f\"macro_loc: {macro_loc.shape}\")   "
   ]
  },
  {
   "cell_type": "markdown",
   "metadata": {},
   "source": [
    "<hr>"
   ]
  },
  {
   "cell_type": "code",
   "execution_count": 4,
   "metadata": {},
   "outputs": [
    {
     "ename": "NameError",
     "evalue": "name 'num_clusters' is not defined",
     "output_type": "error",
     "traceback": [
      "\u001b[0;31m---------------------------------------------------------------------------\u001b[0m",
      "\u001b[0;31mNameError\u001b[0m                                 Traceback (most recent call last)",
      "\u001b[0;32m<ipython-input-4-f133d244bbf5>\u001b[0m in \u001b[0;36m<module>\u001b[0;34m\u001b[0m\n\u001b[1;32m      1\u001b[0m \u001b[0;31m# cmap: coloring\u001b[0m\u001b[0;34m\u001b[0m\u001b[0;34m\u001b[0m\u001b[0;34m\u001b[0m\u001b[0m\n\u001b[0;32m----> 2\u001b[0;31m \u001b[0mcolor_palette\u001b[0m \u001b[0;34m=\u001b[0m \u001b[0msns\u001b[0m\u001b[0;34m.\u001b[0m\u001b[0mcolor_palette\u001b[0m\u001b[0;34m(\u001b[0m\u001b[0;34m'rainbow'\u001b[0m\u001b[0;34m,\u001b[0m \u001b[0mnum_clusters\u001b[0m\u001b[0;34m)\u001b[0m\u001b[0;34m\u001b[0m\u001b[0;34m\u001b[0m\u001b[0m\n\u001b[0m\u001b[1;32m      3\u001b[0m \u001b[0mcolor_palette\u001b[0m \u001b[0;34m=\u001b[0m \u001b[0mshuffle\u001b[0m\u001b[0;34m(\u001b[0m\u001b[0mcolor_palette\u001b[0m\u001b[0;34m)\u001b[0m\u001b[0;34m\u001b[0m\u001b[0;34m\u001b[0m\u001b[0m\n\u001b[1;32m      4\u001b[0m cluster_colors = [color_palette[int(x)] if x >= 0\n\u001b[1;32m      5\u001b[0m                   \u001b[0;32melse\u001b[0m \u001b[0;34m(\u001b[0m\u001b[0;36m0.5\u001b[0m\u001b[0;34m,\u001b[0m \u001b[0;36m0.5\u001b[0m\u001b[0;34m,\u001b[0m \u001b[0;36m0.5\u001b[0m\u001b[0;34m)\u001b[0m\u001b[0;34m\u001b[0m\u001b[0;34m\u001b[0m\u001b[0m\n",
      "\u001b[0;31mNameError\u001b[0m: name 'num_clusters' is not defined"
     ]
    }
   ],
   "source": [
    "# cmap: coloring\n",
    "color_palette = sns.color_palette('rainbow', num_clusters)\n",
    "color_palette = shuffle(color_palette)\n",
    "cluster_colors = [color_palette[int(x)] if x >= 0\n",
    "                  else (0.5, 0.5, 0.5)\n",
    "                  for x in macro_cluster[:,0]]\n",
    "cluster_member_colors = np.array([sns.desaturate(x, p) for x, p in\n",
    "                         zip(cluster_colors, macro_cluster[:,1])])\n",
    "\n",
    "\n",
    "fig, ax = plt.subplots(figsize=(12,7))\n",
    "ax.scatter(macro_loc[:,0], macro_loc[:,1], s=7, c=cluster_member_colors, alpha=0.5)\n",
    "ax.set(xlabel='Length (cm)', ylabel='Width (cm)', title=f\"Global Location ( {file_key} )\")\n",
    "plt.show()"
   ]
  },
  {
   "cell_type": "code",
   "execution_count": null,
   "metadata": {},
   "outputs": [],
   "source": []
  },
  {
   "cell_type": "code",
   "execution_count": null,
   "metadata": {},
   "outputs": [],
   "source": []
  },
  {
   "cell_type": "code",
   "execution_count": null,
   "metadata": {},
   "outputs": [],
   "source": []
  },
  {
   "cell_type": "code",
   "execution_count": null,
   "metadata": {},
   "outputs": [],
   "source": []
  },
  {
   "cell_type": "code",
   "execution_count": null,
   "metadata": {},
   "outputs": [],
   "source": []
  }
 ],
 "metadata": {
  "kernelspec": {
   "display_name": "Python 3",
   "language": "python",
   "name": "python3"
  },
  "language_info": {
   "codemirror_mode": {
    "name": "ipython",
    "version": 3
   },
   "file_extension": ".py",
   "mimetype": "text/x-python",
   "name": "python",
   "nbconvert_exporter": "python",
   "pygments_lexer": "ipython3",
   "version": "3.8.5"
  },
  "toc": {
   "base_numbering": 1,
   "nav_menu": {},
   "number_sections": true,
   "sideBar": true,
   "skip_h1_title": false,
   "title_cell": "Table of Contents",
   "title_sidebar": "Contents",
   "toc_cell": false,
   "toc_position": {},
   "toc_section_display": true,
   "toc_window_display": false
  }
 },
 "nbformat": 4,
 "nbformat_minor": 4
}
