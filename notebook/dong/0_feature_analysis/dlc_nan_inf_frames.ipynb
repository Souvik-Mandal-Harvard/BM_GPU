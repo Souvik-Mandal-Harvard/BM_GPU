{
 "cells": [
  {
   "cell_type": "code",
   "execution_count": 1,
   "metadata": {},
   "outputs": [],
   "source": [
    "SMALL_SIZE, MEDIUM_SIZE = 9, 12\n",
    "PROJECT_PATH = \"/Users/donghur/Desktop/Research/Murthy/BM_GPU\"\n",
    "# PROJECT_PATH = \"/rapids/notebooks/host\""
   ]
  },
  {
   "cell_type": "code",
   "execution_count": 2,
   "metadata": {},
   "outputs": [],
   "source": [
    "import sys\n",
    "import numpy as np\n",
    "from glob import glob\n",
    "import random, matplotlib\n",
    "from tqdm.notebook import tqdm\n",
    "import matplotlib.pyplot as plt\n",
    "\n",
    "sys.path.append(PROJECT_PATH)\n",
    "from utils.data import Dataset\n"
   ]
  },
  {
   "cell_type": "code",
   "execution_count": 3,
   "metadata": {},
   "outputs": [],
   "source": [
    "import utils.figure as ufigure\n",
    "%load_ext autoreload\n",
    "%autoreload 1\n",
    "%aimport utils.data\n",
    "%aimport utils.figure"
   ]
  },
  {
   "cell_type": "code",
   "execution_count": 4,
   "metadata": {},
   "outputs": [
    {
     "name": "stderr",
     "output_type": "stream",
     "text": [
      "  0%|          | 0/141 [00:00<?, ?it/s]"
     ]
    },
    {
     "name": "stdout",
     "output_type": "stream",
     "text": [
      "Loading INFO.yaml ...\n",
      "Finished loading INFO\n",
      "Loading config.yaml ...\n",
      "Finished loading config\n"
     ]
    },
    {
     "name": "stderr",
     "output_type": "stream",
     "text": [
      "100%|██████████| 141/141 [00:09<00:00, 14.94it/s]\n"
     ]
    }
   ],
   "source": [
    "Data = Dataset(PROJECT_PATH, 'final')\n",
    "Data.load_data()"
   ]
  },
  {
   "cell_type": "code",
   "execution_count": 5,
   "metadata": {},
   "outputs": [],
   "source": [
    "# configuration\n",
    "INFO = Data.info\n",
    "INFO_values = Data.info_values\n",
    "config = Data.config\n",
    "skeleton = config['skeleton']\n",
    "skeleton_color= config['skeleton_color']\n",
    "\n",
    "# features\n",
    "bp = Data.data_obj['bodypoints']\n",
    "rot_bp = Data.data_obj['rotated_bodypoints']\n",
    "angles = Data.data_obj['angles']\n",
    "limbs = Data.data_obj['limbs']\n",
    "angle_power = Data.data_obj['angle_power']\n",
    "limb_power = Data.data_obj['limb_power']\n",
    "\n",
    "# embeddings\n",
    "all_embed = Data.data_obj['all_embeddings']\n",
    "all_postural_embed = Data.data_obj['all_postural_embeddings']\n",
    "all_kinematic_embed = Data.data_obj['all_kinematic_embeddings']"
   ]
  },
  {
   "cell_type": "code",
   "execution_count": 6,
   "metadata": {},
   "outputs": [],
   "source": [
    "num_fr,_,_ = bp.shape\n",
    "DLC_data = np.copy(bp)\n"
   ]
  },
  {
   "cell_type": "markdown",
   "metadata": {},
   "source": [
    "<hr><hr>"
   ]
  },
  {
   "cell_type": "code",
   "execution_count": 7,
   "metadata": {},
   "outputs": [],
   "source": [
    "good_fr, good_ax = np.where(~np.isnan(DLC_data[:,config['bp_center'],0:2]))\n",
    "good_unique_fr = np.unique(good_fr)\n",
    "DLC_data[good_unique_fr,:,0:2] -= DLC_data[good_unique_fr,config['bp_center'],0:2][:,np.newaxis,:]"
   ]
  },
  {
   "cell_type": "markdown",
   "metadata": {},
   "source": [
    "<hr><hr>"
   ]
  },
  {
   "cell_type": "code",
   "execution_count": 8,
   "metadata": {},
   "outputs": [],
   "source": [
    "bp_axis = DLC_data[:,config['bp_scale'],0:2]\n",
    "bad_fr, bad_bp, bad_ax = np.where(np.isnan(bp_axis))\n",
    "unique_bad_fr = np.unique(bad_fr)\n",
    "\n",
    "good_idx = np.array([True]*num_fr)\n",
    "good_idx[unique_bad_fr] = False\n",
    "good_bp_axis = bp_axis[good_idx,:,:]\n",
    "\n",
    "x_d = good_bp_axis[0,0] - good_bp_axis[1,0]\n",
    "y_d = good_bp_axis[0,1] - good_bp_axis[1,1]\n",
    "dist = np.sqrt(x_d**2+y_d**2)\n",
    "scale_factor = np.median(dist)\n",
    "DLC_data[:,:,0:2] /= scale_factor"
   ]
  },
  {
   "cell_type": "code",
   "execution_count": 9,
   "metadata": {},
   "outputs": [
    {
     "name": "stdout",
     "output_type": "stream",
     "text": [
      "(1872138, 30, 3)\n"
     ]
    },
    {
     "data": {
      "text/plain": [
       "(174253,)"
      ]
     },
     "execution_count": 9,
     "metadata": {},
     "output_type": "execute_result"
    }
   ],
   "source": [
    "print(DLC_data.shape)\n",
    "nan_fr,_,_ = np.where(np.isnan(DLC_data))\n",
    "np.unique(nan_fr).shape"
   ]
  },
  {
   "cell_type": "code",
   "execution_count": 10,
   "metadata": {},
   "outputs": [
    {
     "data": {
      "image/png": "[encoded data removed]",
      "text/plain": [
       "<Figure size 216x288 with 1 Axes>"
      ]
     },
     "metadata": {
      "needs_background": "light"
     },
     "output_type": "display_data"
    }
   ],
   "source": [
    "ufigure.ant_model(DLC_data,skeleton=config['skeleton'], \n",
    "                  skeleton_color=config['skeleton_color'],\n",
    "                 fr=300)"
   ]
  },
  {
   "cell_type": "markdown",
   "metadata": {},
   "source": [
    "<hr><hr>"
   ]
  },
  {
   "cell_type": "code",
   "execution_count": 11,
   "metadata": {},
   "outputs": [],
   "source": [
    "from helper import _rotational"
   ]
  },
  {
   "cell_type": "code",
   "execution_count": 12,
   "metadata": {},
   "outputs": [
    {
     "name": "stderr",
     "output_type": "stream",
     "text": [
      "/Users/donghur/anaconda3/lib/python3.7/site-packages/ipykernel_launcher.py:7: RuntimeWarning: divide by zero encountered in true_divide\n",
      "  import sys\n",
      "/Users/donghur/anaconda3/lib/python3.7/site-packages/ipykernel_launcher.py:7: RuntimeWarning: invalid value encountered in true_divide\n",
      "  import sys\n"
     ]
    }
   ],
   "source": [
    "data = DLC_data[:,:,0:2]\n",
    "axis_bp = config['bp_rotate']\n",
    "\n",
    "rot_data = np.copy(data)\n",
    "num_bp = rot_data.shape[1]\n",
    "axis_vector = rot_data[:,axis_bp,:]\n",
    "angle_list = np.sign(axis_vector[:,0]) * np.pi/2 - np.arctan( axis_vector[:,1]/axis_vector[:,0] )"
   ]
  },
  {
   "cell_type": "code",
   "execution_count": 13,
   "metadata": {},
   "outputs": [
    {
     "data": {
      "text/plain": [
       "(174253,)"
      ]
     },
     "execution_count": 13,
     "metadata": {},
     "output_type": "execute_result"
    }
   ],
   "source": [
    "nan_fr,_,_ = np.where(np.isnan(rot_data))\n",
    "np.unique(nan_fr).shape"
   ]
  },
  {
   "cell_type": "code",
   "execution_count": 138,
   "metadata": {},
   "outputs": [
    {
     "data": {
      "text/plain": [
       "(1872138, 30, 2)"
      ]
     },
     "execution_count": 138,
     "metadata": {},
     "output_type": "execute_result"
    }
   ],
   "source": [
    "rot_data.shape"
   ]
  },
  {
   "cell_type": "code",
   "execution_count": 14,
   "metadata": {},
   "outputs": [],
   "source": [
    "nan_fr, nan_bp = np.where(np.isnan(axis_vector))\n",
    "unique_nan_fr = np.unique(nan_fr)\n",
    "\n",
    "zero_fr, = np.where(axis_vector[:,0]==0)\n"
   ]
  },
  {
   "cell_type": "code",
   "execution_count": 15,
   "metadata": {},
   "outputs": [
    {
     "data": {
      "text/plain": [
       "2201"
      ]
     },
     "execution_count": 15,
     "metadata": {},
     "output_type": "execute_result"
    }
   ],
   "source": [
    "len(zero_fr)"
   ]
  },
  {
   "cell_type": "code",
   "execution_count": 150,
   "metadata": {},
   "outputs": [
    {
     "data": {
      "text/plain": [
       "52958"
      ]
     },
     "execution_count": 150,
     "metadata": {},
     "output_type": "execute_result"
    }
   ],
   "source": [
    "len(unique_nan_fr)"
   ]
  },
  {
   "cell_type": "code",
   "execution_count": 152,
   "metadata": {},
   "outputs": [
    {
     "data": {
      "text/plain": [
       "(1872138,)"
      ]
     },
     "execution_count": 152,
     "metadata": {},
     "output_type": "execute_result"
    }
   ],
   "source": [
    "axis_vector[:,0].shape"
   ]
  },
  {
   "cell_type": "code",
   "execution_count": 18,
   "metadata": {},
   "outputs": [
    {
     "data": {
      "text/plain": [
       "0.00019999999733322227"
      ]
     },
     "execution_count": 18,
     "metadata": {},
     "output_type": "execute_result"
    }
   ],
   "source": [
    "np.pi/2-np.arctan(0.5/0.0001)"
   ]
  },
  {
   "cell_type": "code",
   "execution_count": null,
   "metadata": {},
   "outputs": [],
   "source": []
  }
 ],
 "metadata": {
  "kernelspec": {
   "display_name": "notebook_analysis",
   "language": "python",
   "name": "notebook_analysis"
  },
  "language_info": {
   "codemirror_mode": {
    "name": "ipython",
    "version": 3
   },
   "file_extension": ".py",
   "mimetype": "text/x-python",
   "name": "python",
   "nbconvert_exporter": "python",
   "pygments_lexer": "ipython3",
   "version": "3.7.3"
  }
 },
 "nbformat": 4,
 "nbformat_minor": 4
}
