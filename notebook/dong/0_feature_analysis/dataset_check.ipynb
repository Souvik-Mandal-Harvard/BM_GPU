{
 "cells": [
  {
   "cell_type": "code",
   "execution_count": 112,
   "metadata": {},
   "outputs": [],
   "source": [
    "SMALL_SIZE, MEDIUM_SIZE = 9, 12\n",
    "PROJECT_PATH = \"/Users/donghur/Desktop/Research/Murthy/BM_GPU\""
   ]
  },
  {
   "cell_type": "code",
   "execution_count": 113,
   "metadata": {},
   "outputs": [],
   "source": [
    "import sys\n",
    "import numpy as np\n",
    "from glob import glob\n",
    "import random, matplotlib\n",
    "from tqdm.notebook import tqdm\n",
    "import matplotlib.pyplot as plt\n",
    "\n",
    "sys.path.append(PROJECT_PATH)\n",
    "from utils.data import Dataset\n"
   ]
  },
  {
   "cell_type": "code",
   "execution_count": 114,
   "metadata": {},
   "outputs": [
    {
     "name": "stdout",
     "output_type": "stream",
     "text": [
      "The autoreload extension is already loaded. To reload it, use:\n",
      "  %reload_ext autoreload\n"
     ]
    }
   ],
   "source": [
    "import utils.figure as ufigure\n",
    "%load_ext autoreload\n",
    "%autoreload 1\n",
    "%aimport utils.data\n",
    "%aimport utils.figure"
   ]
  },
  {
   "cell_type": "code",
   "execution_count": 115,
   "metadata": {},
   "outputs": [
    {
     "name": "stdout",
     "output_type": "stream",
     "text": [
      "Loading INFO.yaml ...\n"
     ]
    },
    {
     "name": "stderr",
     "output_type": "stream",
     "text": [
      "  0%|          | 0/141 [00:00<?, ?it/s]"
     ]
    },
    {
     "name": "stdout",
     "output_type": "stream",
     "text": [
      "Finished loading INFO\n",
      "Loading config.yaml ...\n",
      "Finished loading config\n"
     ]
    },
    {
     "name": "stderr",
     "output_type": "stream",
     "text": [
      "100%|██████████| 141/141 [00:10<00:00, 14.10it/s]\n"
     ]
    }
   ],
   "source": [
    "Data = Dataset(PROJECT_PATH, 'final')\n",
    "Data.load_data()"
   ]
  },
  {
   "cell_type": "code",
   "execution_count": 116,
   "metadata": {},
   "outputs": [],
   "source": [
    "# configuration\n",
    "INFO = Data.info\n",
    "INFO_values = Data.info_values\n",
    "config = Data.config\n",
    "skeleton = config['skeleton']\n",
    "skeleton_color= config['skeleton_color']\n",
    "\n",
    "# features\n",
    "bp = Data.data_obj['bodypoints']\n",
    "rot_bp = Data.data_obj['rotated_bodypoints']\n",
    "angles = Data.data_obj['angles']\n",
    "limbs = Data.data_obj['limbs']\n",
    "angle_power = Data.data_obj['angle_power']\n",
    "limb_power = Data.data_obj['limb_power']\n",
    "\n",
    "# embeddings\n",
    "all_embed = Data.data_obj['all_embeddings']\n",
    "all_postural_embed = Data.data_obj['all_postural_embeddings']\n",
    "all_kinematic_embed = Data.data_obj['all_kinematic_embeddings']"
   ]
  },
  {
   "cell_type": "markdown",
   "metadata": {},
   "source": [
    "<hr><hr>"
   ]
  },
  {
   "cell_type": "code",
   "execution_count": 117,
   "metadata": {},
   "outputs": [
    {
     "data": {
      "text/plain": [
       "nan"
      ]
     },
     "execution_count": 117,
     "metadata": {},
     "output_type": "execute_result"
    }
   ],
   "source": [
    "np.max(bp)"
   ]
  },
  {
   "cell_type": "code",
   "execution_count": 97,
   "metadata": {
    "scrolled": true
   },
   "outputs": [
    {
     "data": {
      "application/vnd.jupyter.widget-view+json": {
       "model_id": "f848a2844b904f44a3a94799cd49611e",
       "version_major": 2,
       "version_minor": 0
      },
      "text/plain": [
       "HBox(children=(HTML(value=''), FloatProgress(value=0.0, max=141.0), HTML(value='')))"
      ]
     },
     "metadata": {},
     "output_type": "display_data"
    },
    {
     "name": "stdout",
     "output_type": "stream",
     "text": [
      "\n"
     ]
    }
   ],
   "source": [
    "INFO_items = list(INFO.items())\n",
    "INFO_items.sort(key=lambda x: x[1]['order'])\n",
    "tot_limb= []\n",
    "\n",
    "for key, file in tqdm(INFO_items):\n",
    "    save_path = file['directory']\n",
    "    bp = np.load(f\"{PROJECT_PATH}/{save_path}/rotated_bodypoints.npy\")\n",
    "    bp = bp.astype(\"float64\")\n",
    "    num_fr, num_bp, _ = bp.shape\n",
    "    likelihood = bp[:,:,2]\n",
    "    \n",
    "    ### Locate Bad Frames ###\n",
    "    # check if below likelihood threshold\n",
    "    (below_thresh_fr, below_thresh_marker) = np.where(likelihood < config['likelihood_thresh'])\n",
    "    cnt = collections.Counter(below_thresh_fr)\n",
    "    cnt_array = np.array(list(cnt.items()))\n",
    "    # check if above marker threshold\n",
    "    try:\n",
    "        # set low likelihood fr as bad fr\n",
    "        bad_fr_idx = np.where(cnt_array[:,1] > config['marker_thresh'])[0]\n",
    "        bad_fr = cnt_array[bad_fr_idx,0]\n",
    "        # set nan fr as bad fr\n",
    "        nan_fr, _, _ = np.where( np.isnan(bp) )\n",
    "        unique_nan_fr = np.unique(nan_fr)\n",
    "        bad_fr = np.concatenate([bad_fr, unique_nan_fr])\n",
    "        bad_fr = np.unique(bad_fr)\n",
    "        # append pads\n",
    "        padded_fr = np.array([ list(range(fr-config['bad_fr_pad'], fr+config['bad_fr_pad']+1)) for fr in bad_fr])\n",
    "        disregard_fr = np.unique(padded_fr.flatten())\n",
    "        disregard_fr = disregard_fr[(disregard_fr >= 0) & (disregard_fr < num_fr)]\n",
    "        good_fr_idx = np.array([True]*num_fr)\n",
    "        good_fr_idx[disregard_fr] = False\n",
    "        good_fr = np.where(good_fr_idx==True)[0]\n",
    "    except:\n",
    "        bad_fr = np.array([])\n",
    "        disregard_fr = np.array([])\n",
    "        good_fr = np.arange(num_fr)\n",
    "\n",
    "    # TODO: modify proportion of good fr\n",
    "    file['good_fr'] = good_fr.tolist()\n",
    "    file['bad_fr'] = bad_fr.tolist()\n",
    "    file['disregard_fr'] = disregard_fr.tolist()\n",
    "    \n",
    "    \n",
    "    # ********* fix ***********\n",
    "    limbs = np.zeros((num_fr, len(config['limbs'])))\n",
    "    for i, limb_pts in enumerate(config['limbs']):\n",
    "        bp_good_fr = bp[good_fr,:,:]\n",
    "\n",
    "        limb_i = bp_good_fr[:,limb_pts,:]\n",
    "        \n",
    "        limbs[good_fr,i] = np.sqrt((limb_i[:,0,0]-limb_i[:,1,0])**2 + (limb_i[:,0,1]-limb_i[:,1,1])**2)\n",
    "    inf_fr,_ = np.where(np.isinf(limbs))\n",
    "    if len(inf_fr) != 0:\n",
    "        break\n",
    "\n",
    "        \n",
    "#     tot_limb.append(limbs[good_fr,:])"
   ]
  },
  {
   "cell_type": "code",
   "execution_count": 119,
   "metadata": {},
   "outputs": [
    {
     "data": {
      "text/plain": [
       "155.8"
      ]
     },
     "execution_count": 119,
     "metadata": {},
     "output_type": "execute_result"
    }
   ],
   "source": [
    "num_fr,_,_ = rot_bp.shape\n",
    "\n",
    "nan_fr,_,_ = np.where(np.isnan(rot_bp))\n",
    "nan_fr = np.unique(nan_fr)\n",
    "good_fr = np.array([True]*num_fr)\n",
    "good_fr[nan_fr] = False\n",
    "\n",
    "np.max(rot_bp[good_fr,:,:])"
   ]
  },
  {
   "cell_type": "code",
   "execution_count": 122,
   "metadata": {},
   "outputs": [
    {
     "data": {
      "image/png": "[encoded data removed]",
      "text/plain": [
       "<Figure size 432x288 with 1 Axes>"
      ]
     },
     "metadata": {
      "needs_background": "light"
     },
     "output_type": "display_data"
    }
   ],
   "source": [
    "plt.scatter(bp[100,:,0], bp[100,:,1])\n",
    "plt.scatter(rot_bp[100,:,0], rot_bp[100,:,1])\n",
    "plt.show()"
   ]
  },
  {
   "cell_type": "code",
   "execution_count": 131,
   "metadata": {},
   "outputs": [
    {
     "data": {
      "text/plain": [
       "1.036"
      ]
     },
     "execution_count": 131,
     "metadata": {},
     "output_type": "execute_result"
    }
   ],
   "source": [
    "np.sqrt(np.sum((rot_bp[200,1,:]-rot_bp[200,2,:])**2))"
   ]
  },
  {
   "cell_type": "code",
   "execution_count": null,
   "metadata": {},
   "outputs": [],
   "source": []
  }
 ],
 "metadata": {
  "kernelspec": {
   "display_name": "notebook_analysis",
   "language": "python",
   "name": "notebook_analysis"
  },
  "language_info": {
   "codemirror_mode": {
    "name": "ipython",
    "version": 3
   },
   "file_extension": ".py",
   "mimetype": "text/x-python",
   "name": "python",
   "nbconvert_exporter": "python",
   "pygments_lexer": "ipython3",
   "version": "3.7.3"
  }
 },
 "nbformat": 4,
 "nbformat_minor": 4
}
