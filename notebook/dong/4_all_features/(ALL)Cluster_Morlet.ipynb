{
 "cells": [
  {
   "cell_type": "code",
   "execution_count": null,
   "metadata": {},
   "outputs": [],
   "source": [
    "import os, random, matplotlib, pickle, yaml, hdbscan\n",
    "import numpy as np\n",
    "from sklearn.utils import shuffle\n",
    "import seaborn as sns\n",
    "from tqdm.notebook import tqdm\n",
    "import matplotlib.pyplot as plt\n",
    "import matplotlib.colors as colors\n",
    "import matplotlib as mpl\n",
    "from matplotlib.ticker import FormatStrFormatter\n",
    "from matplotlib.colors import ListedColormap\n",
    "from glob2 import glob"
   ]
  },
  {
   "cell_type": "code",
   "execution_count": null,
   "metadata": {},
   "outputs": [],
   "source": [
    "skeleton = [\n",
    "    [0,1,2,3],\n",
    "    [4,5,6,7],\n",
    "    [8,9,10],\n",
    "    [11,12,13],\n",
    "    [14,15,16],\n",
    "    [17,18,19,20],\n",
    "    [21,22,23],\n",
    "    [24,25,26],\n",
    "    [27,28,29]\n",
    "]\n",
    "skeleton_color=['tab:blue','tab:orange','tab:green','tab:red','tab:purple','tab:brown','tab:pink','tab:gray','tab:olive', 'tab:cyan']"
   ]
  },
  {
   "cell_type": "code",
   "execution_count": null,
   "metadata": {},
   "outputs": [],
   "source": [
    "result_path = \"../results/round3\"\n",
    "with open(f\"{result_path}/INFO.yaml\") as f:\n",
    "    INFO = yaml.load(f, Loader=yaml.FullLoader)\n",
    "    INFO_values = list(INFO.values())\n",
    "    INFO_values.sort(key=lambda x: x['order'])"
   ]
  },
  {
   "cell_type": "code",
   "execution_count": null,
   "metadata": {},
   "outputs": [],
   "source": [
    "config_path = \"..\"\n",
    "with open(f\"{config_path}/config.yaml\") as f:\n",
    "    config = yaml.load(f, Loader=yaml.FullLoader)"
   ]
  },
  {
   "cell_type": "code",
   "execution_count": null,
   "metadata": {},
   "outputs": [],
   "source": [
    "root_path = \"..\"\n",
    "rot_bp, angles, limbs = [], [], []\n",
    "angle_power, limb_power = [], []\n",
    "all_embed = []\n",
    "all_postural_embed, marker_postural_embed, angle_postural_embed, limb_postural_embed = [], [], [], []\n",
    "all_kinematic_embed, marker_kinematic_embed, limb_kinematic_embed, angle_kinematic_embed = [], [], [], []\n",
    "\n",
    "for file in tqdm(INFO_values):\n",
    "    rot_bp.append( np.load(f\"{root_path}/{file['directory']}/rotated_bodypoints.npy\") )\n",
    "    angles.append( np.load(f\"{root_path}/{file['directory']}/angles.npy\") )\n",
    "    limbs.append( np.load(f\"{root_path}/{file['directory']}/limbs.npy\") )\n",
    "    angle_power.append( np.load(f\"{root_path}/{file['directory']}/angle_power.npy\") )\n",
    "    limb_power.append( np.load(f\"{root_path}/{file['directory']}/limb_power.npy\") )\n",
    "    \n",
    "    all_embed.append( np.load(f\"{root_path}/{file['directory']}/all_embeddings.npy\") )\n",
    "    \n",
    "    all_postural_embed.append( np.load(f\"{root_path}/{file['directory']}/all_postural_embeddings.npy\") )\n",
    "#     marker_postural_embed.append( np.load(f\"{root_path}/{file['directory']}/marker_postural_embeddings.npy\") )\n",
    "#     angle_postural_embed.append( np.load(f\"{root_path}/{file['directory']}/angle_postural_embeddings.npy\") )\n",
    "#     limb_postural_embed.append( np.load(f\"{root_path}/{file['directory']}/limb_postural_embeddings.npy\") )\n",
    "    \n",
    "    all_kinematic_embed.append( np.load(f\"{root_path}/{file['directory']}/all_kinematic_embeddings.npy\") )\n",
    "#     marker_kinematic_embed.append( np.load(f\"{root_path}/{file['directory']}/marker_kinematic_embeddings.npy\") )\n",
    "#     limb_kinematic_embed.append( np.load(f\"{root_path}/{file['directory']}/marker_limb_embeddings.npy\") )\n",
    "#     angle_kinematic_embed.append( np.load(f\"{root_path}/{file['directory']}/marker_angle_embeddings.npy\") )\n",
    "    \n",
    "rot_bp = np.concatenate(rot_bp)\n",
    "angles = np.concatenate(angles)\n",
    "limbs = np.concatenate(limbs)\n",
    "angle_power = np.concatenate(angle_power)\n",
    "limb_power = np.concatenate(limb_power)\n",
    "\n",
    "all_embed = np.concatenate(all_embed)\n",
    "\n",
    "all_postural_embed = np.concatenate(all_postural_embed)\n",
    "# marker_postural_embed = np.concatenate(marker_postural_embed)\n",
    "# angle_postural_embed = np.concatenate(angle_postural_embed)\n",
    "# alllimb_postural_embed_embed = np.concatenate(limb_postural_embed)\n",
    "\n",
    "all_kinematic_embed = np.concatenate(all_kinematic_embed)\n",
    "# marker_kinematic_embed = np.concatenate(marker_kinematic_embed)\n",
    "# limb_kinematic_embed = np.concatenate(limb_kinematic_embed)\n",
    "# angle_kinematic_embed = np.concatenate(angle_kinematic_embed)"
   ]
  },
  {
   "cell_type": "markdown",
   "metadata": {},
   "source": [
    "<hr>\n",
    "<hr>"
   ]
  },
  {
   "cell_type": "markdown",
   "metadata": {},
   "source": [
    "# Morlet Angle"
   ]
  },
  {
   "cell_type": "code",
   "execution_count": null,
   "metadata": {},
   "outputs": [],
   "source": [
    "num_clusters = int(np.max(labels) + 1)\n",
    "\n",
    "fig, ax = plt.subplots(5,5,figsize=(20,30), dpi=400)\n",
    "for i_cluster in range(num_clusters):\n",
    "#     idx_cluster = (labels == i_cluster) & (clusterer.probabilities_>0.7)\n",
    "    idx_cluster = (labels == i_cluster)\n",
    "    num_fr_in_cluster = len(np.where(idx_cluster)[0])\n",
    "    \n",
    "    xtick_idx = np.arange(1, len(freq), 3)\n",
    "    \n",
    "    # Create figure\n",
    "    ax[i_cluster//5, i_cluster%5].imshow(np.mean(angle_power[idx_cluster,:,:], axis=0).T, norm = matplotlib.colors.LogNorm(vmin=np.min(angle_power), vmax=np.max(angle_power)), \n",
    "              vmin=0.01, vmax=np.max(angle_power[:,:,:]), cmap='hot')\n",
    "    \n",
    "    # Figure Setting Specific\n",
    "    if i_cluster%5 == 0: \n",
    "        ax[i_cluster//5, i_cluster%5].set(xticks=xtick_idx, xticklabels=np.around(freq[xtick_idx], 1), \n",
    "               yticks=np.arange(len(config['angle_labels'])), yticklabels=config['angle_labels'],\n",
    "               aspect=1.1, xlabel=\"Frequency\", \n",
    "               title=f\"Avg Power Cluster {i_cluster} ({num_fr_in_cluster} frames)\")\n",
    "    else:\n",
    "        ax[i_cluster//5, i_cluster%5].set(xticks=xtick_idx, xticklabels=np.around(freq[xtick_idx], 1), yticks=[],\n",
    "               aspect=1.1, xlabel=\"Frequency\", \n",
    "               title=f\"Avg Power Cluster {i_cluster} ({num_fr_in_cluster} frames)\")\n",
    "plt.show()"
   ]
  },
  {
   "cell_type": "code",
   "execution_count": null,
   "metadata": {},
   "outputs": [],
   "source": [
    "marker_idx = 4\n",
    "\n",
    "num_clusters = int(np.max(labels) + 1)\n",
    "marker_psd = []\n",
    "\n",
    "for i_cluster in range(num_clusters):\n",
    "    idx_cluster = (labels == i_cluster)\n",
    "    marker_psd.append( np.mean(angle_power[idx_cluster,:,marker_idx], axis=0) )\n",
    "marker_psd = np.stack(marker_psd)\n",
    "\n",
    "fig, ax = plt.subplots(figsize=(5,6))\n",
    "ax.imshow(marker_psd.T, norm = matplotlib.colors.LogNorm(), \n",
    "          vmin=0.01, vmax=np.max(angle_power[:,:,marker_idx]), cmap='hot')\n",
    "ax.set(\n",
    "    yticks=np.arange(1, len(freq), 3), yticklabels=np.around(freq[xtick_idx], 1), \n",
    "    aspect=1.1, ylabel=\"Frequency\", xlabel=\"Cluster\" ,\n",
    "    title=f\"Avg Power Cluster {config['angle_labels'][marker_idx]}\")\n",
    "plt.show()"
   ]
  },
  {
   "cell_type": "markdown",
   "metadata": {},
   "source": [
    "# Morlet Limb"
   ]
  },
  {
   "cell_type": "code",
   "execution_count": null,
   "metadata": {},
   "outputs": [],
   "source": [
    "num_clusters = int(np.max(labels) + 1)\n",
    "\n",
    "fig, ax = plt.subplots(5,5,figsize=(20,30), dpi=400)\n",
    "for i_cluster in range(num_clusters):\n",
    "#     idx_cluster = (labels == i_cluster) & (clusterer.probabilities_>0.7)\n",
    "    idx_cluster = (labels == i_cluster)\n",
    "    num_fr_in_cluster = len(np.where(idx_cluster)[0])\n",
    "    \n",
    "    xtick_idx = np.arange(1, len(freq), 3)\n",
    "    \n",
    "    # Create figure\n",
    "    ax[i_cluster//5, i_cluster%5].imshow(np.mean(limb_power[idx_cluster,:,:], axis=0).T, norm = matplotlib.colors.LogNorm(), \n",
    "              vmin=0.01, vmax=np.max(limb_power[:,:,:]), cmap='hot')\n",
    "    \n",
    "    # Figure Setting Specific\n",
    "    if i_cluster%5 == 0: \n",
    "        ax[i_cluster//5, i_cluster%5].set(xticks=xtick_idx, xticklabels=np.around(freq[xtick_idx], 1), \n",
    "               yticks=np.arange(len(config['limb_labels'])), yticklabels=config['limb_labels'],\n",
    "               aspect=1.1, xlabel=\"Frequency\", \n",
    "               title=f\"Avg Power Cluster {i_cluster} ({num_fr_in_cluster} frames)\")\n",
    "    else:\n",
    "        ax[i_cluster//5, i_cluster%5].set(xticks=xtick_idx, xticklabels=np.around(freq[xtick_idx], 1), yticks=[],\n",
    "               aspect=1.1, xlabel=\"Frequency\", \n",
    "               title=f\"Avg Power Cluster {i_cluster} ({num_fr_in_cluster} frames)\")\n",
    "plt.show()"
   ]
  }
 ],
 "metadata": {
  "kernelspec": {
   "display_name": "Python 3",
   "language": "python",
   "name": "python3"
  },
  "language_info": {
   "codemirror_mode": {
    "name": "ipython",
    "version": 3
   },
   "file_extension": ".py",
   "mimetype": "text/x-python",
   "name": "python",
   "nbconvert_exporter": "python",
   "pygments_lexer": "ipython3",
   "version": "3.7.3"
  }
 },
 "nbformat": 4,
 "nbformat_minor": 4
}
